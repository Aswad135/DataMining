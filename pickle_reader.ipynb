{
  "nbformat": 4,
  "nbformat_minor": 0,
  "metadata": {
    "colab": {
      "name": "pickle reader.ipynb",
      "provenance": [],
      "collapsed_sections": [],
      "mount_file_id": "1T790je0FrOM9Ti0Lql7e2uaQIHf8nNe_",
      "authorship_tag": "ABX9TyMYsCjOFdrwOLpKF/XKxnvb",
      "include_colab_link": true
    },
    "kernelspec": {
      "name": "python3",
      "display_name": "Python 3"
    },
    "language_info": {
      "name": "python"
    }
  },
  "cells": [
    {
      "cell_type": "markdown",
      "metadata": {
        "id": "view-in-github",
        "colab_type": "text"
      },
      "source": [
        "<a href=\"https://colab.research.google.com/github/Aswad135/DataMining/blob/master/pickle_reader.ipynb\" target=\"_parent\"><img src=\"https://colab.research.google.com/assets/colab-badge.svg\" alt=\"Open In Colab\"/></a>"
      ]
    },
    {
      "cell_type": "code",
      "execution_count": 1,
      "metadata": {
        "id": "qdFAWBdP3d9N"
      },
      "outputs": [],
      "source": [
        "import pickle\n"
      ]
    },
    {
      "cell_type": "code",
      "source": [
        "infile = open('/content/drive/MyDrive/factor_comp.pickle','rb')\n",
        "new_dict = pickle.load(infile)\n",
        "infile.close()"
      ],
      "metadata": {
        "id": "zNvIx-7x36iE"
      },
      "execution_count": 12,
      "outputs": []
    },
    {
      "cell_type": "code",
      "source": [
        "print(type(new_dict))\n",
        "print(new_dict)"
      ],
      "metadata": {
        "colab": {
          "base_uri": "https://localhost:8080/"
        },
        "id": "lsCNeRmy4HS4",
        "outputId": "5fd8c967-b449-46ef-9fce-02d60262044e"
      },
      "execution_count": 13,
      "outputs": [
        {
          "output_type": "stream",
          "name": "stdout",
          "text": [
            "<class 'pandas.core.frame.DataFrame'>\n",
            "      transactionID  rev             startDateUTC  isDeletion  publishingID  \\\n",
            "0            113980    4  2022-02-28 00:00:20.003           0      23149313   \n",
            "1            123729    4  2022-02-28 00:00:20.003           0      23149314   \n",
            "2            457354    8  2022-02-28 00:00:20.003           0      23149315   \n",
            "3            660998    4  2022-02-28 00:00:20.003           0      23149316   \n",
            "4            783227    4  2022-02-28 00:00:20.003           0      23148828   \n",
            "...             ...  ...                      ...         ...           ...   \n",
            "4682       37995495    1  2022-02-28 23:00:20.007           0      23153048   \n",
            "4683       37995497    1  2022-02-28 23:00:20.007           0      23153049   \n",
            "4684       37995505    1  2022-02-28 23:00:20.007           0      23153050   \n",
            "4685       37995507    1  2022-02-28 23:00:20.007           0      23153051   \n",
            "4686       37995508    1  2022-02-28 23:00:20.007           0      23153052   \n",
            "\n",
            "          c2iQ      p2iQ        insiderRelation insiderLevel connectionType  \\\n",
            "0     JCKVU1W0  HF8X1KT9        Executive Board            A         DIRECT   \n",
            "1     JCKVU1W0  HF8X1KT9        Executive Board            A         DIRECT   \n",
            "2     JCKVU1W0  HF8X1KT9        Executive Board            A         DIRECT   \n",
            "3     JCKVU1W0  HF8X1KT9        Executive Board            A       INDIRECT   \n",
            "4     CM1VU1C5  17QX1KQ4      Supervisory Board            C         DIRECT   \n",
            "...        ...       ...                    ...          ...            ...   \n",
            "4682  RZNVU1B6  UFSH1KP1                    CTO            B         DIRECT   \n",
            "4683  GKVVU1C8  Z76H1KU1   Controller/Treasurer            B         DIRECT   \n",
            "4684  2ARVU1B3  Z70H1KM1  Senior Vice President            B         DIRECT   \n",
            "4685  QPBVU1C7  2QFY1K79         Vice President            B         DIRECT   \n",
            "4686  QPBVU1C7  2QFY1K79         Vice President            B         DIRECT   \n",
            "\n",
            "      ...       value currency      valueEUR      valueUSD  source  \\\n",
            "0     ...   170428.80      EUR  1.704288e+05  2.077357e+05     EQU   \n",
            "1     ...   240476.50      EUR  2.404765e+05  2.849166e+05     EQU   \n",
            "2     ...  1348054.38      EUR  1.348054e+06  1.744652e+06     EQU   \n",
            "3     ...   199241.60      EUR  1.992416e+05  2.664458e+05     ADH   \n",
            "4     ...    54194.00      EUR  5.419400e+04  7.361171e+04     ADH   \n",
            "...   ...         ...      ...           ...           ...     ...   \n",
            "4682  ...   697528.00      USD  6.191406e+05  6.975280e+05     SEC   \n",
            "4683  ...     9913.40      USD  8.899572e+03  9.913400e+03     SEC   \n",
            "4684  ...     8513.90      USD  7.643196e+03  8.513900e+03     SEC   \n",
            "4685  ...    50000.00      CAD  3.483261e+04  3.924265e+04     CAN   \n",
            "4686  ...    45000.00      CAD  3.134935e+04  3.531839e+04     CAN   \n",
            "\n",
            "      tradeSignificance  holdings   dateCol  dateColInt    sedol  \n",
            "0                   3.0       NaN  20220228    20220228  B03CMY0  \n",
            "1                   3.0       NaN  20220228    20220228  B03CMY0  \n",
            "2                   2.0       NaN  20220228    20220228  B03CMY0  \n",
            "3                   2.0       NaN  20220228    20220228  B03CMY0  \n",
            "4                   2.0       NaN  20220228    20220228  5529027  \n",
            "...                 ...       ...       ...         ...      ...  \n",
            "4682                1.0   26526.0  20220228    20220228  2636607  \n",
            "4683                1.0    2499.0  20220228    20220228  2691305  \n",
            "4684                1.0   34132.0  20220228    20220228  2270500  \n",
            "4685                1.0  125000.0  20220228    20220228  BFZBBD2  \n",
            "4686                1.0  275000.0  20220228    20220228  BFZBBD2  \n",
            "\n",
            "[4687 rows x 47 columns]\n"
          ]
        }
      ]
    },
    {
      "cell_type": "code",
      "source": [
        "outfile = open('/content/drive/MyDrive/factor_comp.csv','w')\n",
        "outfile.write(new_dict.to_csv())\n",
        "outfile.close()"
      ],
      "metadata": {
        "id": "_Xm-h7096T2E"
      },
      "execution_count": 19,
      "outputs": []
    }
  ]
}